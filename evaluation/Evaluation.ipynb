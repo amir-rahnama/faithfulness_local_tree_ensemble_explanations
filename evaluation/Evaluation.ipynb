{
 "cells": [
  {
   "cell_type": "code",
   "execution_count": 31,
   "id": "2f569421-b9d3-4632-b349-e6c987ba1d41",
   "metadata": {},
   "outputs": [
    {
     "name": "stdout",
     "output_type": "stream",
     "text": [
      "The autoreload extension is already loaded. To reload it, use:\n",
      "  %reload_ext autoreload\n"
     ]
    }
   ],
   "source": [
    "%load_ext autoreload\n",
    "%autoreload 2"
   ]
  },
  {
   "cell_type": "code",
   "execution_count": 110,
   "id": "41472b01-5efc-498e-8c2c-8a22cc8b1432",
   "metadata": {},
   "outputs": [],
   "source": [
    "import numpy as np\n",
    "import pandas as pd\n",
    "\n",
    "import matplotlib.pyplot as plt\n",
    "import seaborn as sns\n",
    "import scipy\n",
    "from scipy import stats\n",
    "from scipy.stats import norm, spearmanr\n",
    "from sklearn.datasets import load_breast_cancer, load_iris\n",
    "from sklearn.impute import SimpleImputer\n",
    "from sklearn.linear_model import LogisticRegression\n",
    "from sklearn.neighbors import KNeighborsClassifier\n",
    "from sklearn.tree import DecisionTreeClassifier\n",
    "from sklearn.preprocessing import LabelEncoder, OrdinalEncoder, StandardScaler, RobustScaler, MinMaxScaler\n",
    "#from sklearn.impute import KNNImputer\n",
    "from sklearn.model_selection import train_test_split, GridSearchCV, cross_val_score, RandomizedSearchCV\n",
    "from sklearn.metrics import pairwise_distances, accuracy_score\n",
    "from sklearn.compose import ColumnTransformer\n",
    "from sklearn.pipeline import Pipeline\n",
    "from sklearn.naive_bayes import GaussianNB\n",
    "from sklearn.linear_model import LogisticRegression\n",
    "from sklearn.tree import DecisionTreeClassifier\n",
    "from sklearn.preprocessing import OneHotEncoder\n",
    "from sklearn.ensemble import RandomForestClassifier\n",
    "from sklearn.ensemble import GradientBoostingClassifier\n",
    "from sklearn.preprocessing import FunctionTransformer\n",
    "import shap\n",
    "import os\n",
    "import sklearn\n",
    "\n",
    "from joblib import dump, load\n",
    "from tabulate import tabulate\n",
    "\n",
    "import pickle\n",
    "import os\n",
    "from treeinterpreter import treeinterpreter as ti\n",
    "from anchor import anchor_tabular\n",
    "import sys\n",
    "sys.path.append('..')\n",
    "from utils import transform_feat_v2, transform, squeeze_dim_v2, squeeze_dim\n",
    "#from all_tree_explanations_v2 import tree_shap_exp, mdi_exp, anchors_exp, lime_exp, shap_exp, lpi_exp, random_exp, local_mdi_exp\n",
    "from sklearn.datasets import fetch_openml\n",
    "from evaluation import get_robustness, get_robustness_sample"
   ]
  },
  {
   "cell_type": "code",
   "execution_count": 111,
   "id": "0f3dd7c5-80f8-40bf-957b-e8f7afcdef3f",
   "metadata": {},
   "outputs": [],
   "source": [
    "BASE_PATH = os.getcwd() \n",
    "e_path = f'{BASE_PATH}/explanations/default'\n",
    "d_path = f'{BASE_PATH}/data'\n",
    "m_path = f'{BASE_PATH}/models/default'"
   ]
  },
  {
   "cell_type": "code",
   "execution_count": 122,
   "id": "fd2bd01f-a2fc-4fcd-b74b-49bd6c62648a",
   "metadata": {},
   "outputs": [],
   "source": [
    "temp = pickle.load( open( \"evaluation/robust_vals_gb.p\", \"rb\" ) )"
   ]
  },
  {
   "cell_type": "code",
   "execution_count": 34,
   "id": "6f8ff606-d384-4cd1-b659-c52c221a5fc1",
   "metadata": {},
   "outputs": [],
   "source": [
    "exp_names = ['lime', 'kernel_shap', 'lpi', 'tree_shap_obs', 'tree_shap_inter', 'local_mdi', 'saabas',  'random']"
   ]
  },
  {
   "cell_type": "code",
   "execution_count": 35,
   "id": "fc392255-a703-4e4e-b4ca-bca29f49125a",
   "metadata": {},
   "outputs": [],
   "source": [
    "d_name = 'spambase'\n",
    "m_name = 'gb'"
   ]
  },
  {
   "cell_type": "code",
   "execution_count": 36,
   "id": "9c2c97c6-579e-4022-935a-fd1eb5a5ab5e",
   "metadata": {},
   "outputs": [],
   "source": [
    "exp_res = {}\n",
    "for e_name in exp_names:\n",
    "    temp = pickle.load( open( \"{}/{}/{}_{}.p\".format(e_path, d_name, e_name, m_name), \"rb\" ) )\n",
    "    if e_name in ['kernel_shap', 'local_mdi']: \n",
    "        temp = np.squeeze(temp)\n",
    "    exp_res[e_name] = temp"
   ]
  },
  {
   "cell_type": "code",
   "execution_count": 37,
   "id": "824307ac-f9fd-4a2b-8d2a-436c972e56e4",
   "metadata": {},
   "outputs": [],
   "source": [
    "e_name = 'lime'\n",
    "idx = 0\n",
    "\n",
    "train_data = np.load(\"{}/{}/X_train.npy\".format(d_path, d_name))\n",
    "test_data = np.load(\"{}/{}/X_test.npy\".format(d_path, d_name))\n",
    "model = load(f'{m_path}/{d_name}/{m_name}.joblib')"
   ]
  },
  {
   "cell_type": "code",
   "execution_count": null,
   "id": "68518ff8-93db-4ef3-b330-73e363886ec3",
   "metadata": {},
   "outputs": [],
   "source": []
  },
  {
   "cell_type": "code",
   "execution_count": 49,
   "id": "ee68d821-d899-484b-844f-6af1f66f7d54",
   "metadata": {},
   "outputs": [],
   "source": [
    "def get_auc(result):\n",
    "    cutoffs = np.linspace(0.05, 0.5, 10)\n",
    "    temp = np.array(result).mean(axis=0)\n",
    "    auc_ = 0\n",
    "    for k in range(1, len(cutoffs) - 1):\n",
    "        x = cutoffs[k] - cutoffs[k - 1]\n",
    "        y = temp[k] + temp[k-1]\n",
    "        auc = y / ( 2 * x)\n",
    "    \n",
    "    return auc"
   ]
  },
  {
   "cell_type": "code",
   "execution_count": 64,
   "id": "ef471192-6172-4656-9ae7-474911019e5c",
   "metadata": {},
   "outputs": [],
   "source": [
    "robust_vals = {'abs': {'insertion': {}, 'deletion': {}}, 'normal': {'insertion': {}, 'deletion': {}}}\n",
    "eps = np.finfo(float).eps\n",
    "for e_name in exp_names:\n",
    "    \n",
    "    robust_vals['abs']['insertion'][e_name] = []\n",
    "    robust_vals['normal']['insertion'][e_name] = []\n",
    "    \n",
    "    robust_vals['normal']['deletion'][e_name] = []\n",
    "    robust_vals['abs']['deletion'][e_name] = []\n",
    "    \n",
    "    temp_in_abs = []\n",
    "    temp_del_abs = []\n",
    "    \n",
    "    temp_in = []\n",
    "    temp_del = []\n",
    "    \n",
    "    for idx in range(100):\n",
    "        exp_example = exp_res[e_name][idx]\n",
    "        instance_explained = test_data[idx]\n",
    "        \n",
    "        temp_in_abs.append(get_robustness(exp_example, instance_explained, train_data, model, type_robust='insertion', selection_type='abs'))\n",
    "        temp_in.append(get_robustness(exp_example, instance_explained, train_data, model, type_robust='insertion'))\n",
    "        \n",
    "        temp_del_abs.append(get_robustness(exp_example, instance_explained, train_data, model, type_robust='deletion', selection_type='abs'))\n",
    "        temp_del.append(get_robustness(exp_example, instance_explained, train_data, model, type_robust='deletion'))\n",
    "    \n",
    "    robust_vals['abs']['insertion'][e_name] = get_auc(temp_in_abs)\n",
    "    robust_vals['normal']['insertion'][e_name] = get_auc(temp_in)\n",
    "    \n",
    "    robust_vals['abs']['deletion'][e_name] = get_auc(temp_del_abs)\n",
    "    robust_vals['normal']['deletion'][e_name] = get_auc(temp_del)"
   ]
  },
  {
   "cell_type": "code",
   "execution_count": 70,
   "id": "46207043-d190-400f-a5b1-8ad835d4381e",
   "metadata": {},
   "outputs": [
    {
     "data": {
      "text/html": [
       "<style type=\"text/css\">\n",
       "#T_f130e_row3_col1, #T_f130e_row7_col0 {\n",
       "  background-color: yellow;\n",
       "}\n",
       "</style>\n",
       "<table id=\"T_f130e\">\n",
       "  <thead>\n",
       "    <tr>\n",
       "      <th class=\"blank level0\" >&nbsp;</th>\n",
       "      <th id=\"T_f130e_level0_col0\" class=\"col_heading level0 col0\" >insertion</th>\n",
       "      <th id=\"T_f130e_level0_col1\" class=\"col_heading level0 col1\" >deletion</th>\n",
       "    </tr>\n",
       "  </thead>\n",
       "  <tbody>\n",
       "    <tr>\n",
       "      <th id=\"T_f130e_level0_row0\" class=\"row_heading level0 row0\" >lime</th>\n",
       "      <td id=\"T_f130e_row0_col0\" class=\"data row0 col0\" >4.194880</td>\n",
       "      <td id=\"T_f130e_row0_col1\" class=\"data row0 col1\" >3.604812</td>\n",
       "    </tr>\n",
       "    <tr>\n",
       "      <th id=\"T_f130e_level0_row1\" class=\"row_heading level0 row1\" >kernel_shap</th>\n",
       "      <td id=\"T_f130e_row1_col0\" class=\"data row1 col0\" >0.072914</td>\n",
       "      <td id=\"T_f130e_row1_col1\" class=\"data row1 col1\" >8.028069</td>\n",
       "    </tr>\n",
       "    <tr>\n",
       "      <th id=\"T_f130e_level0_row2\" class=\"row_heading level0 row2\" >lpi</th>\n",
       "      <td id=\"T_f130e_row2_col0\" class=\"data row2 col0\" >1.014191</td>\n",
       "      <td id=\"T_f130e_row2_col1\" class=\"data row2 col1\" >5.503489</td>\n",
       "    </tr>\n",
       "    <tr>\n",
       "      <th id=\"T_f130e_level0_row3\" class=\"row_heading level0 row3\" >tree_shap_obs</th>\n",
       "      <td id=\"T_f130e_row3_col0\" class=\"data row3 col0\" >0.090388</td>\n",
       "      <td id=\"T_f130e_row3_col1\" class=\"data row3 col1\" >9.309259</td>\n",
       "    </tr>\n",
       "    <tr>\n",
       "      <th id=\"T_f130e_level0_row4\" class=\"row_heading level0 row4\" >tree_shap_inter</th>\n",
       "      <td id=\"T_f130e_row4_col0\" class=\"data row4 col0\" >0.138251</td>\n",
       "      <td id=\"T_f130e_row4_col1\" class=\"data row4 col1\" >9.244740</td>\n",
       "    </tr>\n",
       "    <tr>\n",
       "      <th id=\"T_f130e_level0_row5\" class=\"row_heading level0 row5\" >local_mdi</th>\n",
       "      <td id=\"T_f130e_row5_col0\" class=\"data row5 col0\" >0.230407</td>\n",
       "      <td id=\"T_f130e_row5_col1\" class=\"data row5 col1\" >7.869383</td>\n",
       "    </tr>\n",
       "    <tr>\n",
       "      <th id=\"T_f130e_level0_row6\" class=\"row_heading level0 row6\" >saabas</th>\n",
       "      <td id=\"T_f130e_row6_col0\" class=\"data row6 col0\" >0.274331</td>\n",
       "      <td id=\"T_f130e_row6_col1\" class=\"data row6 col1\" >8.117837</td>\n",
       "    </tr>\n",
       "    <tr>\n",
       "      <th id=\"T_f130e_level0_row7\" class=\"row_heading level0 row7\" >random</th>\n",
       "      <td id=\"T_f130e_row7_col0\" class=\"data row7 col0\" >4.970050</td>\n",
       "      <td id=\"T_f130e_row7_col1\" class=\"data row7 col1\" >3.068245</td>\n",
       "    </tr>\n",
       "  </tbody>\n",
       "</table>\n"
      ],
      "text/plain": [
       "<pandas.io.formats.style.Styler at 0x7f4d479dac20>"
      ]
     },
     "execution_count": 70,
     "metadata": {},
     "output_type": "execute_result"
    }
   ],
   "source": [
    "pd.DataFrame(robust_vals['abs']).style.highlight_max()"
   ]
  },
  {
   "cell_type": "code",
   "execution_count": 82,
   "id": "ae85ae06-c449-4bae-add1-ac899af98da8",
   "metadata": {},
   "outputs": [
    {
     "data": {
      "text/html": [
       "<style type=\"text/css\">\n",
       "#T_7c8d2_row1_col0, #T_7c8d2_row3_col1, #T_7c8d2_row3_col2, #T_7c8d2_row6_col3 {\n",
       "  background-color: yellow;\n",
       "}\n",
       "</style>\n",
       "<table id=\"T_7c8d2\">\n",
       "  <thead>\n",
       "    <tr>\n",
       "      <th class=\"blank level0\" >&nbsp;</th>\n",
       "      <th id=\"T_7c8d2_level0_col0\" class=\"col_heading level0 col0\" >insertion_abs</th>\n",
       "      <th id=\"T_7c8d2_level0_col1\" class=\"col_heading level0 col1\" >deletion_abs</th>\n",
       "      <th id=\"T_7c8d2_level0_col2\" class=\"col_heading level0 col2\" >insertion</th>\n",
       "      <th id=\"T_7c8d2_level0_col3\" class=\"col_heading level0 col3\" >deletion</th>\n",
       "    </tr>\n",
       "  </thead>\n",
       "  <tbody>\n",
       "    <tr>\n",
       "      <th id=\"T_7c8d2_level0_row0\" class=\"row_heading level0 row0\" >lime</th>\n",
       "      <td id=\"T_7c8d2_row0_col0\" class=\"data row0 col0\" >7.000000</td>\n",
       "      <td id=\"T_7c8d2_row0_col1\" class=\"data row0 col1\" >7.000000</td>\n",
       "      <td id=\"T_7c8d2_row0_col2\" class=\"data row0 col2\" >7.000000</td>\n",
       "      <td id=\"T_7c8d2_row0_col3\" class=\"data row0 col3\" >7.000000</td>\n",
       "    </tr>\n",
       "    <tr>\n",
       "      <th id=\"T_7c8d2_level0_row1\" class=\"row_heading level0 row1\" >kernel_shap</th>\n",
       "      <td id=\"T_7c8d2_row1_col0\" class=\"data row1 col0\" >1.000000</td>\n",
       "      <td id=\"T_7c8d2_row1_col1\" class=\"data row1 col1\" >4.000000</td>\n",
       "      <td id=\"T_7c8d2_row1_col2\" class=\"data row1 col2\" >2.000000</td>\n",
       "      <td id=\"T_7c8d2_row1_col3\" class=\"data row1 col3\" >3.000000</td>\n",
       "    </tr>\n",
       "    <tr>\n",
       "      <th id=\"T_7c8d2_level0_row2\" class=\"row_heading level0 row2\" >lpi</th>\n",
       "      <td id=\"T_7c8d2_row2_col0\" class=\"data row2 col0\" >6.000000</td>\n",
       "      <td id=\"T_7c8d2_row2_col1\" class=\"data row2 col1\" >6.000000</td>\n",
       "      <td id=\"T_7c8d2_row2_col2\" class=\"data row2 col2\" >6.000000</td>\n",
       "      <td id=\"T_7c8d2_row2_col3\" class=\"data row2 col3\" >6.000000</td>\n",
       "    </tr>\n",
       "    <tr>\n",
       "      <th id=\"T_7c8d2_level0_row3\" class=\"row_heading level0 row3\" >tree_shap_obs</th>\n",
       "      <td id=\"T_7c8d2_row3_col0\" class=\"data row3 col0\" >2.000000</td>\n",
       "      <td id=\"T_7c8d2_row3_col1\" class=\"data row3 col1\" >1.000000</td>\n",
       "      <td id=\"T_7c8d2_row3_col2\" class=\"data row3 col2\" >1.000000</td>\n",
       "      <td id=\"T_7c8d2_row3_col3\" class=\"data row3 col3\" >2.000000</td>\n",
       "    </tr>\n",
       "    <tr>\n",
       "      <th id=\"T_7c8d2_level0_row4\" class=\"row_heading level0 row4\" >tree_shap_inter</th>\n",
       "      <td id=\"T_7c8d2_row4_col0\" class=\"data row4 col0\" >3.000000</td>\n",
       "      <td id=\"T_7c8d2_row4_col1\" class=\"data row4 col1\" >2.000000</td>\n",
       "      <td id=\"T_7c8d2_row4_col2\" class=\"data row4 col2\" >3.000000</td>\n",
       "      <td id=\"T_7c8d2_row4_col3\" class=\"data row4 col3\" >4.000000</td>\n",
       "    </tr>\n",
       "    <tr>\n",
       "      <th id=\"T_7c8d2_level0_row5\" class=\"row_heading level0 row5\" >local_mdi</th>\n",
       "      <td id=\"T_7c8d2_row5_col0\" class=\"data row5 col0\" >4.000000</td>\n",
       "      <td id=\"T_7c8d2_row5_col1\" class=\"data row5 col1\" >5.000000</td>\n",
       "      <td id=\"T_7c8d2_row5_col2\" class=\"data row5 col2\" >4.000000</td>\n",
       "      <td id=\"T_7c8d2_row5_col3\" class=\"data row5 col3\" >5.000000</td>\n",
       "    </tr>\n",
       "    <tr>\n",
       "      <th id=\"T_7c8d2_level0_row6\" class=\"row_heading level0 row6\" >saabas</th>\n",
       "      <td id=\"T_7c8d2_row6_col0\" class=\"data row6 col0\" >5.000000</td>\n",
       "      <td id=\"T_7c8d2_row6_col1\" class=\"data row6 col1\" >3.000000</td>\n",
       "      <td id=\"T_7c8d2_row6_col2\" class=\"data row6 col2\" >5.000000</td>\n",
       "      <td id=\"T_7c8d2_row6_col3\" class=\"data row6 col3\" >1.000000</td>\n",
       "    </tr>\n",
       "    <tr>\n",
       "      <th id=\"T_7c8d2_level0_row7\" class=\"row_heading level0 row7\" >random</th>\n",
       "      <td id=\"T_7c8d2_row7_col0\" class=\"data row7 col0\" >8.000000</td>\n",
       "      <td id=\"T_7c8d2_row7_col1\" class=\"data row7 col1\" >8.000000</td>\n",
       "      <td id=\"T_7c8d2_row7_col2\" class=\"data row7 col2\" >8.000000</td>\n",
       "      <td id=\"T_7c8d2_row7_col3\" class=\"data row7 col3\" >8.000000</td>\n",
       "    </tr>\n",
       "  </tbody>\n",
       "</table>\n"
      ],
      "text/plain": [
       "<pandas.io.formats.style.Styler at 0x7f4d47652ef0>"
      ]
     },
     "execution_count": 82,
     "metadata": {},
     "output_type": "execute_result"
    }
   ],
   "source": [
    "r_df = pd.DataFrame(robust_vals['abs'])\n",
    "r_df.columns = ['insertion_abs', 'deletion_abs']\n",
    "r_df['insertion_abs'] = r_df['insertion_abs'].rank(ascending=True)\n",
    "r_df['deletion_abs'] = r_df['deletion_abs'].rank(ascending=False)\n",
    "\n",
    "r_df_ = pd.DataFrame(robust_vals['normal'])\n",
    "r_df_['insertion'] = r_df_['insertion'].rank(ascending=True)\n",
    "r_df_['deletion'] = r_df_['deletion'].rank(ascending=False)\n",
    "\n",
    "total = pd.concat([r_df, r_df_], axis=1)\n",
    "total.style.highlight_min()"
   ]
  },
  {
   "cell_type": "code",
   "execution_count": 26,
   "id": "7eb1e8bc-bfcb-488a-a257-80f31e4680e7",
   "metadata": {},
   "outputs": [],
   "source": [
    "## TODO: Check the effect of sample first on the second measures "
   ]
  },
  {
   "cell_type": "code",
   "execution_count": null,
   "id": "e91b3cda-8ae0-4c70-bc42-5b1bc77c4609",
   "metadata": {},
   "outputs": [],
   "source": [
    "s_size = [1, 10, 20, 50]\n",
    "robust_vals_sample = {}\n",
    "\n",
    "for s in s_size:\n",
    "    robust_vals_sample[s] = {'abs': {'insertion': {}, 'deletion': {}}, 'normal': {'insertion': {}, 'deletion': {}}}\n",
    "    eps = np.finfo(float).eps\n",
    "    \n",
    "    for e_name in exp_names:\n",
    "        robust_vals_sample[s]['abs']['insertion'][e_name] = []\n",
    "        robust_vals_sample[s]['normal']['insertion'][e_name] = []\n",
    "        \n",
    "        robust_vals_sample[s]['normal']['deletion'][e_name] = []\n",
    "        robust_vals_sample[s]['abs']['deletion'][e_name] = []\n",
    "        \n",
    "        temp_in_abs = []\n",
    "        temp_del_abs = []\n",
    "        \n",
    "        temp_in = []\n",
    "        temp_del = []\n",
    "        \n",
    "        for idx in range(100):\n",
    "            exp_example = exp_res[e_name][idx]\n",
    "            instance_explained = test_data[idx]\n",
    "            \n",
    "            temp_in_abs.append(get_robustness_sample(exp_example, instance_explained, train_data, model, type_robust='insertion', selection_type='abs',sample_size =s ))\n",
    "            temp_in.append(get_robustness_sample(exp_example, instance_explained, train_data, model, type_robust='insertion', selection_type='normal', sample_size =s))\n",
    "            \n",
    "            temp_del_abs.append(get_robustness_sample(exp_example, instance_explained, train_data, model, type_robust='deletion', selection_type='abs', sample_size =s))\n",
    "            temp_del.append(get_robustness_sample(exp_example, instance_explained, train_data, model, type_robust='deletion', selection_type='normal', sample_size =s))\n",
    "        \n",
    "        robust_vals_sample[s]['abs']['insertion'][e_name] = get_auc(temp_in_abs)\n",
    "        robust_vals_sample[s]['normal']['insertion'][e_name] = get_auc(temp_in)\n",
    "        \n",
    "        robust_vals_sample[s]['abs']['deletion'][e_name] = get_auc(temp_del_abs)\n",
    "        robust_vals_sample[s]['normal']['deletion'][e_name] = get_auc(temp_del)"
   ]
  },
  {
   "cell_type": "code",
   "execution_count": null,
   "id": "67c8f2c1-21da-4d82-93d1-36232d7c5ef7",
   "metadata": {},
   "outputs": [],
   "source": []
  }
 ],
 "metadata": {
  "kernelspec": {
   "display_name": "xai",
   "language": "python",
   "name": "xai"
  },
  "language_info": {
   "codemirror_mode": {
    "name": "ipython",
    "version": 3
   },
   "file_extension": ".py",
   "mimetype": "text/x-python",
   "name": "python",
   "nbconvert_exporter": "python",
   "pygments_lexer": "ipython3",
   "version": "3.10.12"
  }
 },
 "nbformat": 4,
 "nbformat_minor": 5
}
